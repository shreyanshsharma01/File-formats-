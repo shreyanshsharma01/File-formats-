{
 "cells": [
  {
   "cell_type": "markdown",
   "id": "5c1ea0e6",
   "metadata": {},
   "source": [
    "## Convert jpg to png"
   ]
  },
  {
   "cell_type": "code",
   "execution_count": null,
   "id": "f0e56a66",
   "metadata": {},
   "outputs": [],
   "source": [
    "from PIL import Image\n",
    "import os\n",
    "\n",
    "folder = r'path to folder' # Change this to the path of your folder\n",
    "count = 0\n",
    "for file in os.listdir(folder):\n",
    "    try:\n",
    "        if file.endswith('.jpg'):\n",
    "            # Open the JPEG file\n",
    "            filepath = os.path.join(folder, file)\n",
    "            with Image.open(filepath) as im:\n",
    "                # Convert the image to PNG and save it\n",
    "                png_filepath = os.path.join(folder, os.path.splitext(file)[0] + '.png')\n",
    "                im.save(png_filepath, 'PNG')\n",
    "                print(png_filepath)\n",
    "                count+=1\n",
    "    except Exception as e:\n",
    "        print(f\"Error processing {file}: {e}\")\n",
    "print(count)"
   ]
  },
  {
   "cell_type": "code",
   "execution_count": null,
   "id": "1a6bcf1d",
   "metadata": {},
   "outputs": [],
   "source": []
  }
 ],
 "metadata": {
  "kernelspec": {
   "display_name": "Python 3 (ipykernel)",
   "language": "python",
   "name": "python3"
  },
  "language_info": {
   "codemirror_mode": {
    "name": "ipython",
    "version": 3
   },
   "file_extension": ".py",
   "mimetype": "text/x-python",
   "name": "python",
   "nbconvert_exporter": "python",
   "pygments_lexer": "ipython3",
   "version": "3.8.0"
  }
 },
 "nbformat": 4,
 "nbformat_minor": 5
}
