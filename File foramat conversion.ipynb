from PIL import Image
import os

folder = r'path to folder' # Change this to the path of your folder

for file in os.listdir(folder):
    if file.endswith('.jpg'):
        # Open the JPEG file
        filepath = os.path.join(folder, file)
        with Image.open(filepath) as im:
            # Convert the image to PNG and save it
            png_filepath = os.path.join(folder, os.path.splitext(file)[0] + '.png')
            im.save(png_filepath, 'PNG')
            print(png_filepath)
